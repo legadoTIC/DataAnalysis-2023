{
 "cells": [
  {
   "cell_type": "code",
   "execution_count": 1,
   "metadata": {},
   "outputs": [],
   "source": [
    "import pandas as pd\n",
    "from collections import Counter\n",
    "import re"
   ]
  },
  {
   "cell_type": "code",
   "execution_count": 2,
   "metadata": {},
   "outputs": [
    {
     "data": {
      "text/plain": [
       "Index(['Marca temporal', 'Nombre', 'Edad',\n",
       "       'Número de identificación (tarjeta de Identidad o cédula)', 'gender',\n",
       "       'Escoge la entidad que te habló del campamento', 'experience',\n",
       "       'magistral_value', 'work_value', 'section_value', 'project_value',\n",
       "       'guest_value', 'treasure_value',\n",
       "       'Asigne una calificación a la experiencia de realizar el proyecto final: ',\n",
       "       'project_praise', 'project_criticism',\n",
       "       'Escoja quién fue su líder de sección',\n",
       "       '¿Qué aspectos positivos resaltaría de las secciones con el líder?',\n",
       "       '¿Qué recomendaciones le daría a su líder de sección para mejorar? ',\n",
       "       'magistral_praise', 'magistral_criticism',\n",
       "       'Por favor indique qué tan de acuerdo está con cada uno de los siguientes enunciados [Los recursos de aprendizaje (diapositivas en las clases magistrales, ejercicios, proyectos usados en \"manos a la obra y sección\") fueron pertinentes para mi aprendizaje]',\n",
       "       'Por favor indique qué tan de acuerdo está con cada uno de los siguientes enunciados [La información contenida en los recursos de aprendizaje fue clara]',\n",
       "       'Por favor indique qué tan de acuerdo está con cada uno de los siguientes enunciados [La información contenida en los recursos de aprendizaje fue suficiente]',\n",
       "       'Si tiene alguna sugerencia sobre los contenidos del curso (diapositivas en las clases magistrales, ejercicios, proyectos usados en \"manos a la obra y sección\"), por favor escríbala a continuación',\n",
       "       'De acuerdo con su experiencia del curso, por favor, escriba sus comentarios o recomendaciones para tener en cuenta en futuras versiones',\n",
       "       'Después de haber completado el curso introductorio a la programación, identifique qué tan de acuerdo está con las siguientes afirmaciones [Yo puedo seguir aprendiendo a programar]',\n",
       "       'Después de haber completado el curso introductorio a la programación, identifique qué tan de acuerdo está con las siguientes afirmaciones [Yo quiero seguir aprendiendo a programar]',\n",
       "       'Después de haber completado el curso introductorio a la programación, identifique qué tan de acuerdo está con las siguientes afirmaciones [La programación va a ser útil en mi futuro]',\n",
       "       'innate_experience', 'time_and_effort',\n",
       "       '¿Cuándo piensa en Programación, qué le viene a la mente?',\n",
       "       '¿En qué le gustaría trabajar cuando sea grande?',\n",
       "       '¿En este momento se plantea estudiar una carrera universitaria relacionada a la tecnología o la programación? ',\n",
       "       ' ¿Por qué se ha planteado estudiar una carrera universitaria relacionada a la tecnología o la programación? (Seleccione todos los que apliquen)     \\t',\n",
       "       'Programar es una habilidad importante para (Seleccione todos los que apliquen)',\n",
       "       ' ¿Por qué no se ha planteado estudiar una carrera universitaria relacionada a la tecnología o la programación? (Seleccione todos los que apliquen)     \\t',\n",
       "       'Programar es una habilidad importante para (Seleccione todos los que apliquen).1'],\n",
       "      dtype='object')"
      ]
     },
     "execution_count": 2,
     "metadata": {},
     "output_type": "execute_result"
    }
   ],
   "source": [
    "data = pd.read_excel(\"../data/exit.xlsx\")\n",
    "data.rename(columns={\n",
    "    \"Según su experiencia en el Campamento de Verano: Curso Introductorio en Programación asigne una calificación general\":\"experience\",\n",
    "    \"Después de haber completado el curso introductorio a la programación, identifique qué tan de acuerdo está con las siguientes afirmaciones [Pude aprender a programar porque tengo una habilidad innata]\":\"innate_experience\",\n",
    "    \"Después de haber completado el curso introductorio a la programación, identifique qué tan de acuerdo está con las siguientes afirmaciones [Pude aprender a programar porque le dediqué tiempo y esfuerzo]\":\"time_and_effort\",\n",
    "    \"¿Qué aspectos positivos resaltaría de las clases magistrales?\":\"magistral_praise\",\n",
    "    \"¿Qué recomendaciones daría para mejorar las clases magistrales? \":\"magistral_criticism\",\n",
    "    \"¿Qué aspectos positivos resaltaría del proceso que se llevó a cabo para realizar el proyecto final? \":\"project_praise\",\n",
    "    \"¿Qué recomendaciones daría para mejorar el proceso del proyecto final? \":\"project_criticism\",\n",
    "    'Género':'gender',\n",
    "    \"En una escala de 1 a 5 (siendo 1 el mínimo y 5 el máximo) valore el aporte de cada una de las siguientes actividades a su proceso de aprendizaje [Clase Magistral]\":\"magistral_value\",\n",
    "    \"En una escala de 1 a 5 (siendo 1 el mínimo y 5 el máximo) valore el aporte de cada una de las siguientes actividades a su proceso de aprendizaje [Manos a la obra]\":\"work_value\",\n",
    "    \"En una escala de 1 a 5 (siendo 1 el mínimo y 5 el máximo) valore el aporte de cada una de las siguientes actividades a su proceso de aprendizaje [Secciones]\":'section_value',\n",
    "    \"En una escala de 1 a 5 (siendo 1 el mínimo y 5 el máximo) valore el aporte de cada una de las siguientes actividades a su proceso de aprendizaje [Proyecto final]\":\"project_value\",\n",
    "    \"En una escala de 1 a 5 (siendo 1 el mínimo y 5 el máximo) valore el aporte de cada una de las siguientes actividades a su proceso de aprendizaje [Charlas de invitados]\":\"guest_value\",\n",
    "    \"En una escala de 1 a 5 (siendo 1 el mínimo y 5 el máximo) valore el aporte de cada una de las siguientes actividades a su proceso de aprendizaje [Búsqueda del tesoro]\":\"treasure_value\"\n",
    "}, inplace=True)\n",
    "data.columns"
   ]
  },
  {
   "cell_type": "code",
   "execution_count": 3,
   "metadata": {},
   "outputs": [
    {
     "name": "stdout",
     "output_type": "stream",
     "text": [
      "85\n"
     ]
    },
    {
     "data": {
      "text/plain": [
       "Counter({'Muy buena': 56, 'Buena': 27, 'Deficiente': 2})"
      ]
     },
     "execution_count": 3,
     "metadata": {},
     "output_type": "execute_result"
    }
   ],
   "source": [
    "experiences = data.loc[:,'experience'].values.tolist()\n",
    "print(56+27+2)\n",
    "\n",
    "count = Counter(experiences)\n",
    "count"
   ]
  },
  {
   "cell_type": "code",
   "execution_count": 4,
   "metadata": {},
   "outputs": [
    {
     "data": {
      "text/plain": [
       "Counter({'Ni en desacuerdo ni de acuerdo': 33,\n",
       "         'De acuerdo': 16,\n",
       "         'En desacuerdo': 14,\n",
       "         'Muy de acuerdo': 13,\n",
       "         'Muy en desacuerdo': 9})"
      ]
     },
     "execution_count": 4,
     "metadata": {},
     "output_type": "execute_result"
    }
   ],
   "source": [
    "innate = data.loc[:,'innate_experience'].values.tolist()\n",
    "count = Counter(innate)\n",
    "count"
   ]
  },
  {
   "cell_type": "code",
   "execution_count": 5,
   "metadata": {},
   "outputs": [
    {
     "data": {
      "text/plain": [
       "Counter({'Muy de acuerdo': 47,\n",
       "         'De acuerdo': 30,\n",
       "         'Ni en desacuerdo ni de acuerdo': 5,\n",
       "         'En desacuerdo': 2,\n",
       "         'Muy en desacuerdo': 1})"
      ]
     },
     "execution_count": 5,
     "metadata": {},
     "output_type": "execute_result"
    }
   ],
   "source": [
    "effort = data.loc[:,'time_and_effort'].values.tolist()\n",
    "count = Counter(effort)\n",
    "count"
   ]
  },
  {
   "cell_type": "code",
   "execution_count": 6,
   "metadata": {},
   "outputs": [
    {
     "name": "stdout",
     "output_type": "stream",
     "text": [
      "Counter({'que': 72, 'de': 32, 'la': 30, 'no': 25, 'mas': 23, 'las': 22, 'y': 21, '': 20, 'los': 19, 'se': 17, 'en': 16, 'más': 15, 'el': 14, 'con': 13, 'clases': 13, 'para': 13, 'un': 12, 'a': 12, 'poco': 11, 'como': 10, 'nan': 9, 'ninguna': 9, 'sean': 8, 'ya': 8, 'clase': 8, 'magistrales': 7, 'lo': 7, 'o': 7, 'tan': 6, 'menos': 5, 'fueran': 5, 'del': 5, 'tiempo': 5, 'ser': 5, 'me': 5, 'nos': 5, 'es': 4, 'podría': 4, 'solo': 4, 'mucho': 4, 'mejor': 4, 'muy': 4, 'entender': 3, 'nada': 3, 'si': 3, 'estudiantes': 3, 'todo': 3, 'explicar': 3, 'hacer': 3, 'interactivas': 3, 'apuntes': 3, 'fueron': 3, 'profesores': 3, 'ni': 3, 'atención': 3, 'por': 3, 'fuera': 3, 'fue': 3, 'también': 3, 'temas': 3, 'ir': 3, 'una': 3, 'pero': 3, 'rápido': 3, 'tema': 3, 'sam.': 2, 'kelly': 2, 'pronto': 2, 'campamento': 2, 'saben': 2, 'sam': 2, 'estaba': 2, 'hacerlas': 2, 'mayor': 2, 'dar': 2, 'tomar': 2, 'largas': 2, 'didácticas': 2, 'explican': 2, 'demasiado': 2, 'algunas': 2, 'podrian': 2, 'son': 2, 'cada': 2, 'porque': 2, 'hacerla': 2, 'pudieran': 2, 'ejemplos': 2, 'vez': 2, 'sea': 2, 'tuvimos': 2, 'dicto': 2, 'además': 2, 'eran': 2, 'muchos': 2, 'recomendación': 2, 'considero': 2, 'al': 2, 'conocimiento': 2, 'poder': 2, 'mientras': 2, 'nada,': 2, 'eso': 2, 'era': 2, 'entendía': 2, 'bien': 2, 'querían': 2, 'diapositivas': 2, 'mucha': 2, 'den': 2, 'copiar': 2, 'tengo': 2, 'sueño': 2, 'estudiante': 2, 'llegar': 2, '1': 2, 'tarde': 2, 'hablar': 1, 'lenguaje': 1, 'técnico': 1, 'nosotros': 1, 'podamos': 1, 'mejor.': 1, 'tengan': 1, 'distintos': 1, 'mecanismo': 1, 'activos': 1, 'inciten': 1, 'gente': 1, 'dicte': 1, 'dinámicas.': 1, 'recomendar': 1, 'intercativas': 1, 'así': 1, 'últimos': 1, 'días.': 1, 'esto': 1, 'fomentaría': 1, 'integración': 1, 'curso.': 1, 'sintaxis': 1, 'aquellos': 1, 'aplicarlo.': 1, 'cortas': 1, 'únicas': 1, 'entendi,': 1, 'tome': 1, 'disfrute': 1, 'enseñando,': 1, 'resto': 1, 'otros': 1, 'enseñarle': 1, 'jovenes': 1, 'traer': 1, 'estilo': 1, 'activiudades': 1, 'grupos': 1, 'haya': 1, 'participación': 1, 'audiencia.': 1, 'interactiva': 1, 'notas': 1, 'repasos': 1, 'extensos': 1, 'sinceramente': 1, 'tuve': 1, 'quejas': 1, 'magistral': 1, 'rapida': 1, 'mayoria': 1, 'logro': 1, 'esta': 1, 'explicación': 1, 'rápido.': 1, 'didacticas': 1, 'ultimas': 1, 'fondo.': 1, 'espesas': 1, 'completo': 1, 'entendimiento': 1, 'durara': 1, 'intensivas': 1, 'lentas': 1, 'contenido': 1, 'rapido.': 1, 'tambien': 1, 'pareceria': 1, 'util': 1, 'ingles': 1, 'duración': 1, 'entre': 1, 'menor': 1, 'tiempo,': 1, 'larga': 1, 'aburre.': 1, 'brindar': 1, 'computadores': 1, 'probando': 1, 'diciendo.': 1, 'conceptualización': 1, 'cosas': 1, 'tal': 1, 'dinamicas': 1, 'aburrirse': 1, 'rapido': 1, 'enfoquen': 1, 'stanford.': 1, 'aunque': 1, 'departamento': 1, 'informatica': 1, 'andes': 1, 'absolutamente': 1, 'increible': 1, 'siento': 1, 'clave': 1, 'dejar': 1, 'stanford': 1, 'desarrollar': 1, 'sesiones': 1, 'unica': 1, 'seson': 1, 'profesora': 1, 'andes,': 1, 'fuimos': 1, 'efectivos.': 1, 'kelly,': 1, 'rápida': 1, 'manera': 1, 'clase,': 1, 'procesar': 1, 'detenía': 1, 'resolver': 1, 'preguntas,': 1, 'cuando': 1, 'hacía,': 1, 'verdad': 1, 'había': 1, 'tantas': 1, 'preguntas': 1, 'uno': 1, 'sabía': 1, 'preguntar,': 1, 'fraccionar': 1, 'ella,': 1, 'analizar.': 1, 'llamativa': 1, 'profe': 1, 'carlos': 1, 'honestamente,': 1, 'final': 1, 'general': 1, 'útil': 1, 'mi': 1, 'proceso': 1, 'aprendizaje': 1, 'encantaron': 1, 'haciendo': 1, 'ejercicio': 1, 'van': 1, 'dictando': 1, 'realmente': 1, 'rápidas': 1, 'necesario': 1, 'decir': 1, 'algunos': 1, 'hora': 1, 'explicar,': 1, 'hacían': 1, 'lograba': 1, 'lento,': 1, 'veces': 1, 'información': 1, 'tiempo.': 1, 'vuelvan': 1, 'monótonas': 1, 'pueda': 1, 'trabajar': 1, 'constes': 1, 'didáctica': 1, '1h': 1, 'trabajo': 1, 'practico.': 1, 'todas': 1, 'ninguno': 1, 'mejoraran': 1, 'ejemplos.': 1, 'recomendaciones': 1, 'participación,': 1, 'interactuaran': 1, 'estudiantes,': 1, 'mantengamos': 1, 'sentados': 1, 'recibiendo': 1, 'encanta': 1, 'todo,': 1, 'otra': 1, 'jaja,': 1, 'gusta': 1, 'forma': 1, 'personas': 1, 'participan,': 1, 'método': 1, 'enseñanza,': 1, 'todo.': 1, 'principalmente': 1, 'descansos': 1, 'estiramientos': 1, 'demas': 1, 'primeras': 1, 'horas': 1, 'llegas': 1, 'algo': 1, 'dormido': 1, 'pasen': 1, 'puedan': 1, 'interactivas,': 1, 'debido': 1, 'podía': 1, 'perder': 1, 'interés': 1, 'bastante': 1, 'incluir': 1, 'dinamismo': 1, 'estrategias': 1, 'pedagógicas': 1, 'permitan': 1, 'concentración': 1, 'constante': 1, 'puede': 1, 'agobiante': 1, 'dada': 1, 'novedad': 1, 'mismo': 1, 'permitiría': 1, 'afiance': 1, 'nuevos': 1, 'conocimientos': 1, 'queden': 1, 'claros.': 1, 'principal': 1, 'mejorar': 1, 'comprensión': 1, 'muestran': 1, 'trata': 1, 'detalladamente': 1, 'dentro': 1, 'programa,': 1, 'llamar': 1, 'estén': 1, 'saboteando': 1, 'magistral.': 1, 'quizá': 1, 'largas.': 1, 'ninguna,': 1, 'interactivo': 1, 'nuestra': 1, 'desvíe.': 1, 'alumnos': 1, 'duerman': 1, 'q': 1, 'mí,': 1, 'excelentes': 1, 'gustaron': 1, 'montón,': 1, 'recomendaciones.': 1, 'corta': 1, 'dividirla': 1, 'mañana': 1, 'repaso': 1, 'comlemento,': 1, 'ahi': 1, 'tendriamos': 1, 'problemas': 1, 'podriamos': 1, 'tener': 1, 'activas,': 1, 'participantes': 1, 'llegamos': 1, 'mañanas': 1, 'ayudaban': 1, 'concisas': 1, 'practicas': 1, 'perfecto': 1, '.': 1, 'escribir': 1, 'didacticos': 1, 'luz': 1, 'genere': 1, 'cansancio': 1, 'enseñar': 1, 'comandos': 1, 'funciones.': 1, 'actividad': 1, 'charla': 1})\n"
     ]
    }
   ],
   "source": [
    "criticisms = data.loc[:,'magistral_criticism'].values.tolist()\n",
    "criticisms = [str(i) for i in criticisms if i != 0]\n",
    "count = Counter()\n",
    "\n",
    "for criticism in criticisms:\n",
    "    criticism = criticism.lower()\n",
    "    re.sub(',','',criticism)\n",
    "    re.sub('.','',criticism)\n",
    "    re.sub('á','a',criticism)\n",
    "    re.sub('é','e',criticism)\n",
    "    re.sub('í','i',criticism)\n",
    "    re.sub('ó','o',criticism)\n",
    "    re.sub('ú','u',criticism)\n",
    "    x = criticism.split(\" \")\n",
    "    count += Counter(x)\n",
    "\n",
    "print(count)"
   ]
  },
  {
   "cell_type": "code",
   "execution_count": 7,
   "metadata": {},
   "outputs": [
    {
     "name": "stdout",
     "output_type": "stream",
     "text": [
      "Counter({'de': 51, 'que': 49, 'el': 32, 'para': 28, 'mas': 27, 'tiempo': 24, 'más': 22, 'un': 22, 'en': 21, 'y': 19, 'a': 17, 'los': 17, 'proyecto': 15, 'poco': 14, '': 13, 'no': 12, 'la': 12, 'las': 11, 'todo': 10, 'se': 10, 'hacer': 9, 'nos': 9, 'por': 9, 'dar': 8, 'una': 8, 'ninguna': 7, 'muy': 7, 'lo': 7, 'poder': 7, 'con': 6, 'me': 6, 'nada': 6, 'fuera': 5, 'como': 5, 'solo': 5, 'bien': 5, 'ayuda': 5, 'final': 5, 'al': 4, 'mi': 4, 'sea': 4, 'del': 4, 'realizar': 4, 'mejor': 4, 'ya': 4, 'usar': 4, 'recursos': 3, 'mejorar': 3, 'desde': 3, 'es': 3, 'hacerlo': 3, 'o': 3, 'ideas': 3, 'den': 3, 'algo': 3, 'pronto': 3, 'sección': 3, 'resolver': 3, 'uno': 3, 'trabajar': 3, 'final.': 3, 'tener': 3, 'ninguna,': 3, 'estudiantes': 3, 'tiempo.': 2, 'vez': 2, 'idea': 2, 'proyecto.': 2, 'si': 2, 'van': 2, 'personas': 2, 'trabajo': 2, 'documento': 2, 'realizarlo': 2, 'desarrollo': 2, 'librerias': 2, 'creo': 2, 'está': 2, 'aprender': 2, 'pedir': 2, 'apoyo': 2, 'proyectos': 2, 'funciones': 2, 'paso': 2, 'porque': 2, 'proceso': 2, 'todas': 2, 'actividades': 2, 'dieran': 2, 'esta': 2, 'hubieran': 2, 'cuando': 2, 'dudas,': 2, 'persona': 2, 'difícil': 2, 'resuelva': 2, 'puedan': 2, 'mayor': 2, 'fue': 2, 'magistrales': 2, 'fueron': 2, 'final,': 2, 'ejemplos': 2, 'programacion': 2, 'propia': 2, 'hora': 2, 'recomendaría': 2, 'lideres': 2, '.': 2, 'desarrollar': 2, 'tiempo,': 2, 'varios': 2, 'gusto': 2, 'hay': 2, 'sería': 2, 'dudas': 2, 'grupo': 2, 'codigos': 2, 'tal': 1, 'día': 1, 'hubiera': 1, 'ayudado': 1, 'atractivo': 1, 'visualmente': 1, 'tuviera': 1, 'innovaciones': 1, 'tienes': 1, 'perder': 1, 'documentos': 1, 'definir': 1, 'documentos,': 1, 'sean': 1, 'saben': 1, 'hacer.': 1, 'posibilidades': 1, 'agregar': 1, 'programa': 1, 'planeación': 1, 'entorno': 1, 'enfocandose': 1, 'brindarnos': 1, 'perfecto.': 1, 'general,': 1, 'curso': 1, 'verano': 1, 'encantó': 1, 'perspectiva': 1, 'horario': 1, 'largo.': 1, 'sugiero': 1, 'campamentos': 1, 'duren': 1, 'enseñan': 1, 'ponerlo': 1, 'practica.': 1, 'agregarle': 1, 'cosas': 1, 'completo.': 1, 'fuese': 1, 'tema': 1, 'solución': 1, 'problemas,': 1, 'ves': 1, 'eso': 1, 'apoyar': 1, 'creatividad': 1, 'mejores': 1, 'soportes': 1, 'guía': 1, 'cómo': 1, 'proyectos.': 1, 'eliminar': 1, 'énfasis': 1, 'problemática': 1, 'volverlo': 1, 'completamente': 1, 'libre.': 1, 'consejos': 1, 'enfasis': 1, 'previo': 1, 'chicos': 1, 'hagan': 1, 'recalcarles': 1, 'favor': 1, 'segmenten': 1, 'haga': 1, 'minucioso': 1, 'simplemente': 1, 'después': 1, 'saturar': 1, 'intentar': 1, 'acompañen': 1, 'explicar': 1, 'aparecen': 1, 'gráficos': 1, 'crear': 1, 'botón,': 1, 'etc.': 1, 'busqueda': 1, 'tesoro,': 1, 'resto': 1, 'estuvo': 1, 'ver': 1, 'temas': 1, 'fondo.': 1, 'aumentar': 1, 'cantidad': 1, 'problema': 1, 'totalmente': 1, 'libre': 1, 'perfecto': 1, 'dos': 1, 'líderes': 1, 'fuéramos': 1, 'sola': 1, 'tanto,': 1, 'pierde': 1, 'mucho': 1, 'esperando': 1, 'ayudar': 1, 'proyección': 1, 'conocimientos': 1, 'sobre': 1, 'graficos.': 1, 'lograr': 1, 'resultado': 1, 'salio': 1, 'general': 1, 'bueno,': 1, 'justo,': 1, 'parecieron': 1, 'innecesarias': 1, 'clases': 1, 'hablaba': 1, 'proyecto,': 1, 'poca': 1, 'prácticamente': 1, 'hacía': 1, 'quisiera': 1, 'imaginara,': 1, 'entonces': 1, 'daban': 1, 'mucha': 1, 'ayuda.': 1, 'ensenarnos': 1, 'diferentes': 1, 'metodos': 1, 'queremos': 1, 'nosotros': 1, 'dia': 1, 'python': 1, 'nuesta': 1, 'cuenta': 1, 'consideraría': 1, 'seria': 1, 'inicio': 1, 'pequeña': 1, 'introducción': 1, 'proyectó': 1, 'llevar': 1, 'clara': 1, 'ejecutar': 1, 'terminar': 1, 'amo': 1, 'parte': 1, 'adecuadamente': 1, 'parece': 1, 'excelente': 1, 'puedo': 1, 'mis': 1, 'errores.': 1, 'recomendaria': 1, ':d': 1, 'pareció': 1, 'entretenido': 1, 'aprendí': 1, 'bases': 1, 'programar': 1, ':)': 1, 'interactiva': 1, 'juegos': 1, 'búsqueda': 1, 'tesoro': 1, 'campamento': 1, 'activo.': 1, 'ninguna.': 1, 'ideacion': 1, 'personalmente': 1, 'aumentaría': 1, 'grandes': 1, 'ambiciosos': 1, 'requieren': 1, 'nada,': 1, 'ha': 1, 'sido': 1, 'adecuado': 1, 'súper': 1, 'genial,': 1, 'aunque': 1, 'retener': 1, 'tanto': 1, 'conocimiento': 1, 'tan': 1, 'realmente': 1, 'considero': 1, 'debe': 1, 'pensar': 1, 'minusiciosamente': 1, 'verdaderamente': 1, 'dedicacion': 1, 'e': 1, 'identidad': 1, 'estar': 1, 'pendientes': 1, 'plataforma': 1, 'había': 1, 'problemas': 1, 'imágenes': 1, 'detectar': 1, 'colisiones': 1, '(en': 1, 'caso)': 1, 'punto': 1, 'vista': 1, 'hacemos': 1, 'cada': 1, 'nuestro': 1, 'restricción': 1, 'dado': 1, 'líder,': 1, 'bueno': 1, 'formara': 1, 'sistema': 1, 'repartición': 1, 'tiempos': 1, 'permitir': 1, 'todos': 1, 'sus': 1, 'manera': 1, 'equitativa': 1, 'eficiente': 1, 'líder': 1, 'llegue': 1, 'lugar': 1, 'estudiante': 1, 'respectiva': 1, 'pregunta.': 1, 'única': 1, 'recomendación': 1, 'podría': 1, 'ser': 1, 'existieran': 1, 'rápido': 1, 'quizá': 1, 'bueno.': 1, 'socialización': 1, 'entre': 1, 'muestren': 1, 'orientarnos': 1, 'mejor.': 1, 'otras': 1, 'plataformas': 1, 'además': 1, 'csbridge': 1, 'pues': 1, 'permite': 1, 'ciertos': 1, 'comandos': 1, 'funcionado': 1, 'acompañamiento': 1, 'logar': 1, 'objetivo.': 1, 'colocar': 1, 'orden': 1, 'interactivas': 1, 'ayudas': 1, 'métodos': 1, 'relajación': 1, 'llenar': 1, 'estrés': 1, 'mente,': 1, 'sin': 1, 'embargo,': 1, 'sentí': 1, 'proporcionada': 1, 'logré': 1, 'completar': 1, 'tutores': 1, 'nada.': 1, 'instrucciones,': 1, 'etc': 1, 'le': 1, 'variedad': 1, 'falla': 1, 'dedicarnos': 1, 'equipos.': 1, 'alguna': 1, 'lluvia': 1, 'guiarnos': 1, 'ocurre': 1})\n"
     ]
    }
   ],
   "source": [
    "criticisms = data.loc[:,'project_criticism'].values.tolist()\n",
    "criticisms = [str(i) for i in criticisms if i != 0]\n",
    "count = Counter()\n",
    "\n",
    "for criticism in criticisms:\n",
    "    criticism = criticism.lower()\n",
    "    re.sub(',','',criticism)\n",
    "    re.sub('.','',criticism)\n",
    "    re.sub('á','a',criticism)\n",
    "    re.sub('é','e',criticism)\n",
    "    re.sub('í','i',criticism)\n",
    "    re.sub('ó','o',criticism)\n",
    "    re.sub('ú','u',criticism)\n",
    "    x = criticism.split(\" \")\n",
    "    count += Counter(x)\n",
    "\n",
    "print(count)"
   ]
  },
  {
   "cell_type": "code",
   "execution_count": 8,
   "metadata": {},
   "outputs": [
    {
     "name": "stdout",
     "output_type": "stream",
     "text": [
      "Counter({'que': 58, 'de': 47, 'y': 46, 'las': 34, 'la': 33, 'muy': 27, 'los': 23, '': 19, 'a': 19, 'para': 18, 'en': 16, 'sam': 15, 'se': 15, 'el': 14, 'clases': 12, 'son': 11, 'entender': 11, 'me': 10, 'con': 10, 'nos': 9, 'todos': 9, 'mucho': 9, 'bien': 9, 'un': 8, 'eran': 8, 'clase': 7, 'no': 7, 'era': 7, 'lo': 7, 'tema': 7, 'es': 7, 'temas': 6, 'explicaciones': 6, 'del': 6, 'todo': 6, 'más': 6, 'una': 6, 'fue': 5, 'ejemplos': 5, 'mejor': 5, 'por': 5, 'buena': 5, 'manera': 5, 'explicar': 5, 'información': 5, 'fueron': 5, 'cada': 5, 'explicación': 4, 'cosas': 4, 'e': 4, 'interesantes': 4, 'siempre': 4, 'nan': 3, 'excelente': 3, 'profesor': 3, 'ya': 3, 'muchas': 3, 'magistrales': 3, 'aspectos': 3, 'como': 3, 'siento': 3, 'gran': 3, 'sobre': 3, 'contenido': 3, 'actitud': 3, 'hacia': 3, 'además': 3, 'actividades': 3, 'porque': 3, 'su': 3, 'sus': 3, 'estas': 3, 'preguntas': 3, 'tener': 3, 'aprender': 3, 'al': 3, 'ver': 3, 'comprender': 3, 'resaltar': 3, 'estuvieron': 3, 'fáciles': 2, 'tiempo': 2, 'veces': 2, 'divertidas': 2, 'explicaron': 2, 'cuales': 2, 'bastante': 2, 'información.': 2, 'daban': 2, 'estudiantes': 2, 'así': 2, 'cometer': 2, 'errores': 2, 'encantaron': 2, 'mostraba': 2, 'interés': 2, 'buenas,': 2, 'aprendí': 2, 'ejercicios': 2, 'gusto': 2, 'interactivas': 2, 'parte': 2, 'nuevas': 2, 'explicaba': 2, 'charlas': 2, 'general': 2, 'recibir': 2, 'interactiva': 2, 'gustó': 2, 'visual': 2, 'didácticas': 2, 'he': 2, 'mi': 2, 'conjunto': 2, 'hacer': 2, 'amamos': 2, 'sam❤️(〃￣︶￣)人(￣︶￣〃)': 2, 'vez': 2, 'repaso': 2, 'importante': 2, 'claridad': 2, 'dinamicas': 2, 'uno': 2, 'aburrido.': 2, 'algunas': 2, 'claras': 2, 'aprendemos': 2, 'clases.': 2, 'premios': 2, 'estamos': 2, 'necesario': 2, 'muchos': 2, 'conceptos': 2, 'positivos': 2, 'iniciar': 2, 'también': 2, 'entretenidas': 2, 'posible': 2, 'pudimos': 2, 'prácticas.': 1, 'bueno': 1, 'daba': 1, 'realización': 1, 'poco': 1, 'temática': 1, 'adecuada': 1, 'interesante': 1, 'intuitivas': 1, 'íbamos': 1, 'necesitar': 1, 'nuestros': 1, 'proyectos': 1, 'finales.': 1, 'puede': 1, 'sacar': 1, 'provecho': 1, 'contienen': 1, 'consejos': 1, 'mejorar': 1, 'solo': 1, 'aprendieran': 1, 'sino': 1, 'repasaran': 1, 'recordaran': 1, 'suelen': 1, 'principiantes.': 1, 'otro': 1, 'lado,': 1, 'todas': 1, 'disposición': 1, 'cuál': 1, 'tanto': 1, 'profesores': 1, 'iban': 1, 'ambiente': 1, 'aprender.': 1, 'didácticas,': 1, 'explicadas.': 1, 'bases': 1, 'llevar': 1, 'cabo': 1, 'explicaran': 1, 'sensillas': 1, 'positivas': 1, '(la': 1, 'mayor': 1, 'tiempo)': 1, 'habilidades': 1, 'había': 1, 'nuevo.': 1, 'positiva.': 1, 'simplemente': 1, 'superiores': 1, 'cualquier': 1, 'random': 1, 'interacción': 1, 'positiva': 1, 'entendimiento': 1, 'chéveres': 1, 'cómodo': 1, 'auditorios': 1, 'metodología': 1, 'dieron': 1, 'conocimientos': 1, 'necesarios': 1, 'realizar': 1, 'dinamicas.': 1, 'hace': 1, 'apoyo': 1, 'brindaba,': 1, 'haciendo': 1, 'fueran': 1, 'bastantes': 1, 'ejemplos,': 1, 'compartir': 1, 'ideas,': 1, 'mas': 1, 'cuando': 1, 'entendia': 1, 'increible': 1, 'aprendido': 1, 'demasiado': 1, 'el.': 1, 'ha': 1, 'ayudado': 1, 'aumentar': 1, 'pasion': 1, 'programacion': 1, 'feliz': 1, 'haberlo': 1, 'conocido.': 1, 'han': 1, 'sido': 1, 'instancia': 1, 'favorita': 1, 'dias': 1, 'sesiones': 1, 'logrado': 1, 'tanto.': 1, 'geniales,': 1, 'verdad': 1, 'dictaba': 1, 'magistrales,': 1, 'detenía': 1, 'responder': 1, 'gente': 1, 'participara.': 1, 'queridos': 1, 'relevante': 1, 'explicada': 1, 'sam,': 1, 'claras,': 1, 'pero': 1, 'empezaba': 1, 'hacía': 1, 'día': 1, 'anterior': 1, 'eso': 1, 'recordar': 1, 'mucha': 1, 'sentia': 1, 'guiados': 1, 'hacían': 1, 'compartiendo': 1, 'pantalla': 1, 'sintiéramos': 1, 'diera': 1, 'vergüenza': 1, 'hablar': 1, 'frente': 1, 'súper': 1, 'concisos': 1, 'vamos': 1, 'trabajar': 1, 'nuestras': 1, 'aprendi': 1, 'mucho,': 1, 'estar': 1, 'directamente': 1, 'u': 1, 'completas': 1, 'tenia': 1, 'algunos': 1, 'concisas': 1, 'les': 1, 'entendía': 1, 'buenas': 1, 'buen': 1, 'uso': 1, 'presentaciones': 1, 'tambien': 1, 'tenemos': 1, 'fondo': 1, 'juntos': 1, 'poder': 1, 'grupo': 1, 'explicaciones.': 1, 'considero': 1, 'optima': 1, 'aprendizaje': 1, 'colegio': 1, 'debido': 1, 'constancia': 1, 'relevancia': 1, 'trabajo': 1, 'practico,': 1, 'fundamental': 1, 'pesar': 1, 'temáticas': 1, 'rápido,': 1, 'dedicaban': 1, 'sugerencias': 1, 'código,': 1, 'alternativas': 1, 'opción': 1, 'probarlas,': 1, 'llegando': 1, 'punto': 1, 'surgían': 1, 'transcripción': 1, 'código': 1, 'entendible,': 1, 'logre': 1, 'conseguir': 1, 'conocimiento': 1, 'principalmente': 1, 'union': 1, 'llego': 1, 'generar': 1, 'miembros': 1, 'resolvio': 1, 'dudas': 1, 'teniamos': 1, 'pena': 1, 'preguntar': 1, 'logra': 1, 'explicaciones,': 1, 'preocupan': 1, 'entendamos': 1, 'dejando': 1, 'abierta': 1, 'posibilidad': 1, 'momento': 1, 'explican': 1, 'general,': 1, 'estaba': 1, 'guiada': 1, 'diapositivas': 1, 'serian': 1, 'presencia': 1, 'antes': 1, 'central': 1, 'permiten': 1, 'estudiante': 1, 'contexto': 1, 'va': 1, 'tratar': 1, 'previa': 1, 'necesaria': 1, 'dentro': 1, 'resaltaría': 1, 'presentadas,': 1, 'paso': 1, 'permite': 1, 'comprensión': 1, 'tema.': 1, 'nuevos,': 1, 'resalto': 1, 'hicieron': 1, 'tornara': 1, 'magistral,': 1, 've': 1, 'lideres,': 1, 'etc.': 1, 'espacios': 1, 'parecieron': 1, 'buenos': 1, 'asegurar': 1, 'estuviéramos': 1, 'entendiendo.': 1, 'visto': 1, 'teoría': 1, 'podemos': 1, 'ayudan': 1, 'tratando': 1, 'interiorizar': 1, 'parece': 1, 'explicacion': 1, 'metodologia': 1, 'usada.': 1, 'q': 1, 'demostraciones': 1, 'destreza': 1, 'hacernos': 1, 'nosotros': 1, 'fundamentos': 1, 'básicos': 1, 'programación,': 1, 'quiero': 1, 'ganas': 1, 'enseñarnos': 1, 'expuestas': 1, 'durante': 1, 'semanas.': 1, 'regalos': 1, 'participación': 1, 'nuevos': 1, 'enseñanza': 1, 'diferentes': 1, 'formas': 1, 'sencilla': 1, 'supieron': 1, 'expresar': 1, 'querian': 1, 'enseñar': 1, 'forma': 1, 'diapositivas.': 1, 'comodas,': 1, 'aprendimos': 1, 'fácil': 1, 'trataban': 1, 'simplificarlo': 1, 'bein': 1, 'entendibles': 1, 'hartas': 1, 'esta': 1, 'entretenidas,': 1, 'donde': 1, 'presentadores': 1, 'amigables.': 1, 'dan': 1})\n"
     ]
    }
   ],
   "source": [
    "criticisms = data.loc[:,'magistral_praise'].values.tolist()\n",
    "criticisms = [str(i) for i in criticisms if i != 0]\n",
    "count = Counter()\n",
    "\n",
    "for criticism in criticisms:\n",
    "    criticism = criticism.lower()\n",
    "    re.sub(',','',criticism)\n",
    "    re.sub('.','',criticism)\n",
    "    re.sub('á','a',criticism)\n",
    "    re.sub('é','e',criticism)\n",
    "    re.sub('í','i',criticism)\n",
    "    re.sub('ó','o',criticism)\n",
    "    re.sub('ú','u',criticism)\n",
    "    x = criticism.split(\" \")\n",
    "    count += Counter(x)\n",
    "\n",
    "print(count)"
   ]
  },
  {
   "cell_type": "code",
   "execution_count": 9,
   "metadata": {},
   "outputs": [
    {
     "name": "stdout",
     "output_type": "stream",
     "text": [
      "Counter({'de': 94, 'que': 64, 'la': 62, 'el': 58, 'y': 56, 'a': 39, 'proyecto': 30, 'en': 29, 'para': 28, 'los': 27, '': 25, 'un': 19, 'las': 18, 'lo': 18, 'del': 18, 'me': 17, 'fue': 16, 'ayuda': 14, 'mi': 14, 'hacer': 13, 'con': 13, 'más': 12, 'sección': 12, 'por': 11, 'nos': 11, 'final': 11, 'una': 11, 'manera': 10, 'muy': 9, 'líder': 9, 'se': 9, 'proceso': 8, 'realizar': 8, 'todos': 8, 'libertad': 8, 'cosas': 7, 'todo': 7, 'aplicar': 7, 'pude': 7, 'como': 7, 'acompañamiento': 6, 'lideres': 6, 'durante': 6, 'apoyo': 6, 'tuve': 6, 'cada': 6, 'tema': 6, 'mucho': 6, 'poder': 6, 'curso': 6, 'conocimientos': 6, 'aspectos': 6, 'nuestros': 6, 'trabajo': 6, 'mas': 6, 'algo': 5, 'parte': 5, 'nuestro': 5, 'siempre': 5, 'al': 5, 'aprendimos': 5, 'mis': 5, 'uno': 5, 'equipo': 5, 'posibilidad': 4, 'aprender': 4, 'programar': 4, 'sobre': 4, 'nuestras': 4, 'aprendido': 4, 'no': 4, 'es': 4, 'creatividad': 4, 'crear': 4, 'desarrollar': 4, 'ideas': 4, 'mismo': 4, 'verdad': 4, 'lograr': 4, 'su': 4, 'gran': 4, 'problemas': 3, 'hora': 3, 'dedicación': 3, 'esfuerzo': 3, 'dudas': 3, 'pero': 3, 'estar': 3, 'habilidades': 3, 'este': 3, 'o': 3, 'nuevas': 3, 'buena': 3, 'dieron': 3, 'profesores': 3, 'adquiridos': 3, 'positivos': 3, 'usar': 3, 'tambien': 3, 'aunque': 3, 'gusto': 3, 'resolver': 3, 'escoger': 3, 'cual': 3, 'programación': 3, 'resaltaría': 3, 'seccion': 3, 'entre': 3, 'ayudó': 2, 'retroalimentación': 2, 'buen': 2, 'tiempo': 2, 'dado': 2, 'completar': 2, 'tuvo': 2, 'fuera': 2, 'sin': 2, 'tener': 2, 'aprendidas': 2, 'aprendiendo': 2, 'campamento,': 2, 'da': 2, 'además': 2, 'buscar': 2, 'herramientas': 2, 'elegir': 2, 'clases': 2, 'magistrales': 2, 'retador': 2, 'mejor': 2, 'nuestra': 2, 'forma': 2, 'resultado': 2, 'grupo': 2, 'procesos': 2, 'mejorar': 2, 'proyectos': 2, 'conocimiento': 2, 'ayudo': 2, 'final.': 2, 'divertido': 2, 'ver': 2, 'libre': 2, 'e': 2, 'interés': 2, 'resaltar': 2, 'ya': 2, 'códigos': 2, 'comandos': 2, 'importante': 2, 'nuevos': 2, 'proyecto,': 2, 'poco': 2, 'propias': 2, 'ayudarte': 2, 'compromiso': 2, 'actividades': 2, 'integrantes': 2, 'semanas': 2, 'fueron': 2, 'realización': 2, 'dentro': 2, 'permite': 2, 'seguir': 2, 'ambiente': 2, 'razonar': 1, 'solucionar': 1, 'asertiva': 1, 'cerrando': 1, 'tu': 1, 'ceres': 1, 'dada': 1, 'jefes': 1, 'bastante': 1, 'completo': 1, 'aporto': 1, 'crecimiento': 1, 'pogramar.': 1, 'estuvo': 1, 'perfecto': 1, 'jefe': 1, 'explicarnos': 1, 'detalle': 1, 'necesario': 1, 'medida': 1, 'surgían': 1, 'tenemos': 1, 'queramos': 1, 'limitaciones': 1, 'respecto': 1, 'sección.': 1, 'reforzando': 1, 'día': 1, 'acerca': 1, 'sus': 1, 'alcances.': 1, 'vemos': 1, 'verdaderamente': 1, 'ponemos': 1, 'practica': 1, 'defendernos': 1, 'ante': 1, 'casos': 1, 'raros': 1, 'comunes,': 1, 'alternativas.\\nampliamos': 1, 'mentes': 1, 'mundo': 1, 'creativo.': 1, 'aprendí': 1, 'oportunidad': 1, 'había': 1, 'obtuve': 1, 'mucha': 1, 'apoyo.': 1, 'entendimiento': 1, 'estos': 1, 'satisfactoria': 1, 'efectiva': 1, 'resaltaria': 1, 'seria': 1, 'hacerlo': 1, 'quisiera': 1, 'recivido': 1, 'capacidad': 1, 'nuevo': 1, 'proveniente': 1, 'paso': 1, 'divertirnos': 1, 'parece': 1, 'chévere': 1, 'pongan': 1, 'hecha': 1, 'nosotros': 1, 'hayan': 1, 'enseñado': 1, 'animacion': 1, 'python,': 1, 'mouse': 1, 'flechas': 1, 'teclado': 1, 'logre': 1, 'independiente': 1, 'saque': 1, 'momento': 1, 'cosas,': 1, 'satisfactorio.': 1, 'correcto': 1, 'desarrollo': 1, 'quisieramos': 1, 'propio': 1, 'interes': 1, 'dificil': 1, 'porque': 1, 'surgian': 1, 'terminar': 1, 'tenía': 1, 'él': 1, 'guia': 1, 'adquirir,': 1, 'acceso': 1, 'diversas': 1, 'amigables': 1, 'personas,': 1, 'buenos': 1, 'lideres.': 1, 'tengamos': 1, 'retroalimentacion': 1, 'sirvio': 1, 'reconocer': 1, 'diferentes': 1, 'igual': 1, 'mejor.': 1, 'video': 1, 'juego,': 1, 'sencillo,': 1, 'menos': 1, 'funciona': 1, 'bien,': 1, 'interesante': 1, 'entretenido,': 1, 'disfruté': 1, 'adquirido': 1, 'asesoría': 1, 'monitor': 1, 'david': 1, 'buena,': 1, 'finalizar': 1, 'averiguar': 1, 'quieres': 1, 'herramienta': 1, 'útil': 1, 'conceptos': 1, 'agotador,': 1, 'satisfactorio': 1, 'luego': 1, 'trabajo.': 1, 'aspecto': 1, 'positivo': 1, 'permita': 1, 'probar': 1, 'encantó.': 1, 'desde': 1, 'retaban': 1, 'socializar': 1, 'hasta': 1, 'enseñaban': 1, 'dedicación.': 1, 'hubo': 1, 'proyectos.': 1, 'cuenta': 1, 'creativos': 1, 'adecuada,': 1, 'cabe': 1, 'pesar': 1, 'sabia': 1, 'fácil': 1, 'gustó': 1, 'ser': 1, 'creativa': 1, 'logré': 1, 'sacar': 1, 'estaba': 1, '100%': 1, 'encargada': 1, 'yo.': 1, 'importantes': 1, 'notorios,': 1, 'ayudamos': 1, 'mutuamente': 1, 'vez': 1, 'yo': 1, 'aprendí.': 1, 'aprendi': 1, 'variables': 1, 'antes': 1, 'conocia': 1, 'haciendo': 1, 'pone': 1, 'prueba': 1, 'trabajamos': 1, 'presión.': 1, 'helena': 1, 'motivación': 1, 'ciertos': 1, 'obstáculos': 1, 'logró.': 1, 'guía': 1, 'avanzar': 1, 'bloqueneon': 1, 'guias': 1, 'obtuvieron': 1, 'llevar': 1, 'amena.': 1, 'aprendizajes': 1, 'presentar': 1, 'unido': 1, 'hecho': 1, 'apropiar': 1, 'eficaz': 1, 'apropiarlo': 1, 'adecuadamente': 1, 'construcción': 1, 'temática,': 1, 'contenido': 1, 'impacto': 1, 'le': 1, 'asignaba,': 1, 'poner': 1, 'practica,': 1, 'pensamiento': 1, 'lógico': 1, 'desarrollando': 1, 'instrucciones': 1, 'gusta': 1, 'hay': 1, 'profesor': 1, 'presente,': 1, 'tus': 1, 'resolverlos': 1, 'principalmente': 1, 'puedo': 1, 'destacar': 1, 'enfrentar': 1, 'muchos': 1, 'retos': 1, 'alla': 1, 'aprendizajes,': 1, 'lidiar': 1, 'conmigo': 1, 'comprometerme': 1, 'miedos': 1, ',': 1, 'logicamente': 1, 'largo': 1, 'quienes': 1, 'seguridad': 1, 'hicieron': 1, 'fuese': 1, 'solo': 1, 'dictar': 1, 'dejar': 1, 'sino': 1, 'generar': 1, 'vinculo': 1, 'constante': 1, 'dudas,': 1, 'plataforma': 1, 'simplemente': 1, 'descubrir': 1, 'errores': 1, 'han': 1, 'podido': 1, 'realizados': 1, 'estas': 1, 'dos': 1, 'siendo': 1, 'autónomos': 1, 'disposición': 1, 'cuanto': 1, 'maneras': 1, 'eficientes': 1, 'ayudarme': 1, 'objetivo': 1, 'vez,': 1, 'enseñarme': 1, 'que,': 1, 'correspondían': 1, 'visto': 1, 'utilidad': 1, 'final.\\nfuera': 1, 'ello,': 1, 'organización': 1, 'distintas': 1, 'guías': 1, 'apoyar': 1, 'ideación': 1, 'óptimos': 1, 'sentido': 1, 'otorgar': 1, 'estudiantes': 1, 'medio': 1, 'sólido': 1, 'orientación': 1, 'inmensa': 1, 'otro': 1, 'punto': 1, 'ofrece': 1, 'plasmar': 1, 'eficaz.': 1, 'serían,': 1, 'recibimos': 1, 'profesores,': 1, 'fuimos': 1, 'independientes.': 1, 'codigo,': 1, 'aprendia': 1, 'instruccion': 1, 'computadora,': 1, 'cretividad': 1, 'positivas.': 1, 'supervisores': 1, 'traves': 1, 'deseara': 1, 'supervisores.': 1, 'pq': 1, 'gracias': 1, 'eso': 1, 'puede': 1, 'trabajos': 1, 'información': 1, 'conseguí': 1, 'desconocía': 1, 'utilización': 1, 'basado': 1, 'gustos': 1, 'luchar': 1, 'conseguir': 1, 'aquello': 1, 'queremos': 1, 'realizar.': 1, 'demás': 1, 'personas': 1, 'transforma': 1, 'aprendizaje': 1, 'supervisor': 1, 'sección,': 1, 'cantidad': 1, 'recursos': 1, 'reto': 1, 'organizacion': 1, 'motivacion': 1, 'hacerlo,': 1, 'pareció': 1, 'bueno': 1, 'libre,': 1, 'persona': 1, 'podía': 1, 'expresar': 1, 'idea': 1, 'tenia': 1, 'plasmarla': 1, 'motivacion,': 1, 'compañerismo': 1, 'planeación': 1, 'salga': 1, 'relucir': 1, 'disposicion': 1, 'mantuvo': 1, 'lider': 1, 'proyecto.': 1, 'pudimos': 1, 'quisimos': 1, 'dudad': 1, 'volver': 1, 'explicar': 1})\n"
     ]
    }
   ],
   "source": [
    "criticisms = data.loc[:,'project_praise'].values.tolist()\n",
    "criticisms = [str(i) for i in criticisms if i != 0]\n",
    "count = Counter()\n",
    "\n",
    "for criticism in criticisms:\n",
    "    criticism = criticism.lower()\n",
    "    re.sub(',','',criticism)\n",
    "    re.sub('.','',criticism)\n",
    "    re.sub('á','a',criticism)\n",
    "    re.sub('é','e',criticism)\n",
    "    re.sub('í','i',criticism)\n",
    "    re.sub('ó','o',criticism)\n",
    "    re.sub('ú','u',criticism)\n",
    "    x = criticism.split(\" \")\n",
    "    count += Counter(x)\n",
    "\n",
    "print(count)"
   ]
  },
  {
   "cell_type": "code",
   "execution_count": 10,
   "metadata": {},
   "outputs": [
    {
     "name": "stdout",
     "output_type": "stream",
     "text": [
      "===================MALE STATS:===========================\n",
      "Counter({'y': 26, 'que': 22, 'de': 21, 'la': 18, 'muy': 16, 'las': 16, 'en': 10, 'a': 9, 'los': 9, 'clases': 8, 'son': 7, 'sam': 7, '': 6, 'con': 6, 'se': 6, 'bien': 6, 'mucho': 5, 'el': 5, 'todos': 5, 'buena': 5, 'una': 5, 'entender': 4, 'lo': 4, 'clase': 4, 'es': 4, 'para': 4, 'era': 4, 'eran': 4, 'por': 4, 'explicaciones': 3, 'del': 3, 'actitud': 3, 'su': 3, 'sus': 3, 'información': 3, 'fueron': 3, 'cada': 3, 'estuvieron': 3, 'nan': 2, 'excelente': 2, 'explicación': 2, 'divertidas': 2, 'nuevas': 2, 'contenido': 2, 'tema': 2, 'además': 2, 'general': 2, 'manera': 2, 'explicar': 2, 'un': 2, 'he': 2, 'me': 2, 'mi': 2, 'siento': 2, 'estas': 2, 'preguntas': 2, 'hacer': 2, 'cosas': 2, 'premios': 2, 'aprender': 2, 'no': 2, 'resaltar': 2, 'nos': 2, 'todo': 2, 'fáciles': 1, 'prácticas.': 1, 'intuitivas': 1, 'sensillas': 1, 'positivas': 1, 'sobre': 1, 'temas': 1, '(la': 1, 'mayor': 1, 'parte': 1, 'tiempo)': 1, 'aprendí': 1, 'muchas': 1, 'habilidades': 1, 'había': 1, 'nuevo.': 1, 'hacia': 1, 'fue': 1, 'positiva.': 1, 'simplemente': 1, 'así': 1, 'superiores': 1, 'cualquier': 1, 'random': 1, 'charlas': 1, 'e': 1, 'interacción': 1, 'bastante': 1, 'positiva': 1, 'entendimiento': 1, 'chéveres': 1, 'cómodo': 1, 'recibir': 1, 'auditorios': 1, 'metodología': 1, 'interactiva': 1, 'hace': 1, 'increible': 1, 'profesor': 1, 'aprendido': 1, 'demasiado': 1, 'el.': 1, 'ha': 1, 'ayudado': 1, 'aumentar': 1, 'pasion': 1, 'programacion': 1, 'feliz': 1, 'haberlo': 1, 'conocido.': 1, 'han': 1, 'sido': 1, 'instancia': 1, 'favorita': 1, 'dias': 1, 'sesiones': 1, 'conjunto': 1, 'logrado': 1, 'tanto.': 1, 'geniales,': 1, 'verdad': 1, 'mejor': 1, 'dictaba': 1, 'magistrales,': 1, 'siempre': 1, 'detenía': 1, 'responder': 1, 'gente': 1, 'participara.': 1, 'queridos': 1, 'relevante': 1, 'explicada': 1, 'concisos': 1, 'aprendemos': 1, 'cuales': 1, 'vamos': 1, 'trabajar': 1, 'nuestras': 1, 'clases.': 1, 'aprendi': 1, 'mucho,': 1, 'como': 1, 'estar': 1, 'directamente': 1, 'u': 1, 'completas': 1, 'algunas': 1, 'tenia': 1, 'algunos': 1, 'concisas': 1, 'explicaron': 1, 'les': 1, 'entendía': 1, 'tambien': 1, 'dinamicas': 1, 'poder': 1, 'grupo': 1, 'considero': 1, 'más': 1, 'optima': 1, 'aprendizaje': 1, 'colegio': 1, 'debido': 1, 'constancia': 1, 'relevancia': 1, 'trabajo': 1, 'practico,': 1, 'al': 1, 'tener': 1, 'necesario': 1, 'fundamental': 1, 'principalmente': 1, 'union': 1, 'llego': 1, 'generar': 1, 'miembros': 1, 'resolvio': 1, 'dudas': 1, 'muchos': 1, 'teniamos': 1, 'pena': 1, 'preguntar': 1, 'logra': 1, 'claridad': 1, 'explicaciones,': 1, 'preocupan': 1, 'entendamos': 1, 'dejando': 1, 'abierta': 1, 'posibilidad': 1, 'momento': 1, 'explican': 1, 'conceptos': 1, 'daban': 1, 'general,': 1, 'estaba': 1, 'guiada': 1, 'diapositivas': 1, 'dentro': 1, 'aspectos': 1, 'positivos': 1, 'resaltaría': 1, 'claras': 1, 'presentadas,': 1, 'mostraba': 1, 'paso': 1, 'vez': 1, 'permite': 1, 'comprensión': 1, 'tema.': 1, 'magistral,': 1, 'interesantes': 1, 'interactivas': 1, 'demostraciones': 1, 'ejemplos': 1, 'destreza': 1, 'hacernos': 1, 'uno': 1, 'nosotros': 1, 'fundamentos': 1, 'básicos': 1, 'programación,': 1, 'también': 1, 'quiero': 1, 'ganas': 1, 'enseñarnos': 1, 'expuestas': 1, 'durante': 1, 'semanas.': 1, 'regalos': 1, 'participación': 1, 'enseñanza': 1, 'supieron': 1, 'expresar': 1, 'querian': 1, 'enseñar': 1, 'comodas,': 1, 'aprendimos': 1, 'bein': 1, 'entendibles': 1, 'entretenidas,': 1, 'donde': 1, 'pudimos': 1, 'presentadores': 1, 'amigables.': 1})\n",
      "===================FEMALE STATS:===========================\n",
      "Counter({'que': 36, 'de': 26, 'y': 20, 'las': 18, 'la': 15, 'para': 14, 'los': 14, '': 13, 'muy': 11, 'a': 10, 'se': 9, 'el': 9, 'sam': 8, 'me': 8, 'entender': 7, 'nos': 7, 'un': 6, 'en': 6, 'temas': 5, 'no': 5, 'más': 5, 'tema': 5, 'fue': 4, 'ejemplos': 4, 'mejor': 4, 'todos': 4, 'son': 4, 'clases': 4, 'mucho': 4, 'con': 4, 'eran': 4, 'todo': 4, 'ya': 3, 'e': 3, 'interesantes': 3, 'clase': 3, 'magistrales': 3, 'siempre': 3, 'era': 3, 'gran': 3, 'bien': 3, 'actividades': 3, 'es': 3, 'porque': 3, 'lo': 3, 'del': 3, 'manera': 3, 'explicar': 3, 'explicaciones': 3, 'ver': 3, 'comprender': 3, 'profesor': 2, 'tiempo': 2, 'cosas': 2, 'explicación': 2, 'muchas': 2, 'veces': 2, 'información.': 2, 'aspectos': 2, 'estudiantes': 2, 'cometer': 2, 'errores': 2, 'como': 2, 'encantaron': 2, 'interés': 2, 'buenas,': 2, 'ejercicios': 2, 'gusto': 2, 'explicaba': 2, 'gustó': 2, 'visual': 2, 'didácticas': 2, 'amamos': 2, 'sam❤️(〃￣︶￣)人(￣︶￣〃)': 2, 'fueron': 2, 'sobre': 2, 'cada': 2, 'repaso': 2, 'importante': 2, 'tener': 2, 'aburrido.': 2, 'hacia': 2, 'estamos': 2, 'al': 2, 'iniciar': 2, 'información': 2, 'entretenidas': 2, 'posible': 2, 'nan': 1, 'bueno': 1, 'daba': 1, 'realización': 1, 'poco': 1, 'temática': 1, 'adecuada': 1, 'interesante': 1, 'explicaron': 1, 'íbamos': 1, 'necesitar': 1, 'nuestros': 1, 'proyectos': 1, 'finales.': 1, 'cuales': 1, 'puede': 1, 'sacar': 1, 'provecho': 1, 'contienen': 1, 'bastante': 1, 'daban': 1, 'consejos': 1, 'mejorar': 1, 'solo': 1, 'aprendieran': 1, 'sino': 1, 'repasaran': 1, 'recordaran': 1, 'así': 1, 'suelen': 1, 'principiantes.': 1, 'por': 1, 'otro': 1, 'lado,': 1, 'todas': 1, 'disposición': 1, 'cuál': 1, 'tanto': 1, 'profesores': 1, 'iban': 1, 'excelente': 1, 'siento': 1, 'ambiente': 1, 'mostraba': 1, 'aprender.': 1, 'didácticas,': 1, 'explicadas.': 1, 'aprendí': 1, 'bases': 1, 'llevar': 1, 'cabo': 1, 'explicaran': 1, 'interactivas': 1, 'dieron': 1, 'conocimientos': 1, 'necesarios': 1, 'realizar': 1, 'dinamicas.': 1, 'apoyo': 1, 'brindaba,': 1, 'haciendo': 1, 'charlas': 1, 'fueran': 1, 'fáciles': 1, 'bastantes': 1, 'ejemplos,': 1, 'compartir': 1, 'ideas,': 1, 'mas': 1, 'cuando': 1, 'entendia': 1, 'sam,': 1, 'claras,': 1, 'pero': 1, 'vez': 1, 'empezaba': 1, 'hacía': 1, 'día': 1, 'anterior': 1, 'eso': 1, 'claridad': 1, 'recordar': 1, 'mucha': 1, 'dinamicas': 1, 'uno': 1, 'sentia': 1, 'guiados': 1, 'hacían': 1, 'compartiendo': 1, 'pantalla': 1, 'sintiéramos': 1, 'diera': 1, 'vergüenza': 1, 'hablar': 1, 'frente': 1, 'algunas': 1, 'súper': 1, 'claras': 1, 'buenas': 1, 'buen': 1, 'uso': 1, 'presentaciones': 1, 'tenemos': 1, 'fondo': 1, 'juntos': 1, 'explicaciones.': 1, 'pesar': 1, 'temáticas': 1, 'rápido,': 1, 'dedicaban': 1, 'necesario': 1, 'recibir': 1, 'sugerencias': 1, 'código,': 1, 'alternativas': 1, 'opción': 1, 'probarlas,': 1, 'llegando': 1, 'punto': 1, 'surgían': 1, 'transcripción': 1, 'código': 1, 'entendible,': 1, 'logre': 1, 'conseguir': 1, 'conocimiento': 1, 'estas': 1, 'clases.': 1, 'positivos': 1, 'resaltar': 1, 'serian': 1, 'presencia': 1, 'antes': 1, 'central': 1, 'permiten': 1, 'estudiante': 1, 'contexto': 1, 'va': 1, 'tratar': 1, 'previa': 1, 'necesaria': 1, 'aprendemos': 1, 'muchos': 1, 'conceptos': 1, 'nuevos,': 1, 'también': 1, 'resalto': 1, 'hicieron': 1, 'tornara': 1, 've': 1, 'parte': 1, 'lideres,': 1, 'etc.': 1, 'espacios': 1, 'preguntas': 1, 'parecieron': 1, 'buenos': 1, 'asegurar': 1, 'estuviéramos': 1, 'entendiendo.': 1, 'contenido': 1, 'visto': 1, 'además': 1, 'teoría': 1, 'podemos': 1, 'ayudan': 1, 'tratando': 1, 'interiorizar': 1, 'parece': 1, 'explicacion': 1, 'metodologia': 1, 'usada.': 1, 'q': 1, 'una': 1, 'nuevos': 1, 'conjunto': 1, 'diferentes': 1, 'formas': 1, 'sencilla': 1, 'forma': 1, 'interactiva': 1, 'diapositivas.': 1, 'fácil': 1, 'trataban': 1, 'simplificarlo': 1, 'pudimos': 1, 'aprender': 1, 'hartas': 1, 'esta': 1, 'dan': 1})\n"
     ]
    }
   ],
   "source": [
    "male = data[data['gender']=='Masculino']\n",
    "female = data[data['gender']=='Femenino']\n",
    "\n",
    "print(\"===================MALE STATS:===========================\")\n",
    "criticisms = male.loc[:,'magistral_praise'].values.tolist()\n",
    "criticisms = [str(i) for i in criticisms if i != 0]\n",
    "count = Counter()\n",
    "\n",
    "for criticism in criticisms:\n",
    "    criticism = criticism.lower()\n",
    "    re.sub(',','',criticism)\n",
    "    re.sub('.','',criticism)\n",
    "    re.sub('á','a',criticism)\n",
    "    re.sub('é','e',criticism)\n",
    "    re.sub('í','i',criticism)\n",
    "    re.sub('ó','o',criticism)\n",
    "    re.sub('ú','u',criticism)\n",
    "    x = criticism.split(\" \")\n",
    "    count += Counter(x)\n",
    "        \n",
    "print(count)\n",
    "\n",
    "print(\"===================FEMALE STATS:===========================\")\n",
    "criticisms = female.loc[:,'magistral_praise'].values.tolist()\n",
    "criticisms = [str(i) for i in criticisms if i != 0]\n",
    "count = Counter()\n",
    "\n",
    "for criticism in criticisms:\n",
    "    criticism = criticism.lower()\n",
    "    re.sub(',','',criticism)\n",
    "    re.sub('.','',criticism)\n",
    "    re.sub('á','a',criticism)\n",
    "    re.sub('é','e',criticism)\n",
    "    re.sub('í','i',criticism)\n",
    "    re.sub('ó','o',criticism)\n",
    "    re.sub('ú','u',criticism)\n",
    "    x = criticism.split(\" \")\n",
    "    count += Counter(x)\n",
    "\n",
    "print(count)"
   ]
  },
  {
   "cell_type": "code",
   "execution_count": 11,
   "metadata": {},
   "outputs": [
    {
     "name": "stdout",
     "output_type": "stream",
     "text": [
      "Counter({5: 41, 4: 37, 3: 6, 1: 1})\n"
     ]
    }
   ],
   "source": [
    "values = data.loc[:,'magistral_value'].values.tolist()\n",
    "count = Counter(values)\n",
    "\n",
    "print(count)"
   ]
  },
  {
   "cell_type": "code",
   "execution_count": 12,
   "metadata": {},
   "outputs": [
    {
     "name": "stdout",
     "output_type": "stream",
     "text": [
      "Counter({5: 54, 4: 26, 3: 3, 2: 1, 1: 1})\n"
     ]
    }
   ],
   "source": [
    "values = data.loc[:,'work_value'].values.tolist()\n",
    "count = Counter(values)\n",
    "\n",
    "print(count)"
   ]
  },
  {
   "cell_type": "code",
   "execution_count": 13,
   "metadata": {},
   "outputs": [
    {
     "name": "stdout",
     "output_type": "stream",
     "text": [
      "Counter({5: 63, 4: 17, 3: 3, 1: 1, 2: 1})\n"
     ]
    }
   ],
   "source": [
    "values = data.loc[:,'section_value'].values.tolist()\n",
    "count = Counter(values)\n",
    "\n",
    "print(count)"
   ]
  },
  {
   "cell_type": "code",
   "execution_count": 14,
   "metadata": {},
   "outputs": [
    {
     "name": "stdout",
     "output_type": "stream",
     "text": [
      "Counter({5: 58, 4: 22, 3: 4, 1: 1})\n"
     ]
    }
   ],
   "source": [
    "values = data.loc[:,'project_value'].values.tolist()\n",
    "count = Counter(values)\n",
    "\n",
    "print(count)"
   ]
  },
  {
   "cell_type": "code",
   "execution_count": 15,
   "metadata": {},
   "outputs": [
    {
     "name": "stdout",
     "output_type": "stream",
     "text": [
      "Counter({5: 23, 3: 21, 4: 20, 2: 14, 1: 7})\n"
     ]
    }
   ],
   "source": [
    "values = data.loc[:,'guest_value'].values.tolist()\n",
    "count = Counter(values)\n",
    "\n",
    "print(count)"
   ]
  },
  {
   "cell_type": "code",
   "execution_count": 16,
   "metadata": {},
   "outputs": [
    {
     "name": "stdout",
     "output_type": "stream",
     "text": [
      "Counter({5: 34, 4: 26, 3: 16, 1: 5, 2: 4})\n"
     ]
    }
   ],
   "source": [
    "values = data.loc[:,'treasure_value'].values.tolist()\n",
    "count = Counter(values)\n",
    "\n",
    "print(count)"
   ]
  },
  {
   "cell_type": "code",
   "execution_count": 17,
   "metadata": {},
   "outputs": [
    {
     "name": "stdout",
     "output_type": "stream",
     "text": [
      "Counter({5: 34, 4: 26, 3: 16, 1: 5, 2: 4})\n"
     ]
    }
   ],
   "source": [
    "values = data[['experience' , 'Asigne una calificación a la experiencia de realizar el proyecto final: ']].values.tolist()\n",
    "\n",
    "print(count)"
   ]
  },
  {
   "cell_type": "code",
   "execution_count": 18,
   "metadata": {},
   "outputs": [
    {
     "name": "stdout",
     "output_type": "stream",
     "text": [
      "Counter({5: 34, 4: 26, 3: 16, 1: 5, 2: 4})\n"
     ]
    }
   ],
   "source": [
    "values = data[['experience' , 'Asigne una calificación a la experiencia de realizar el proyecto final: ']].values.tolist()\n",
    "\n",
    "print(values)"
   ]
  },
  {
   "cell_type": "code",
   "execution_count": 19,
   "metadata": {},
   "outputs": [
    {
     "name": "stdout",
     "output_type": "stream",
     "text": [
      "Counter({5: 34, 4: 26, 3: 16, 1: 5, 2: 4})\n"
     ]
    }
   ],
   "source": [
    "values = data[['experience' , 'time_and_effort']].values.tolist()\n",
    "\n",
    "print(values)"
   ]
  },
  {
   "cell_type": "code",
   "execution_count": 20,
   "metadata": {},
   "outputs": [
    {
     "name": "stdout",
     "output_type": "stream",
     "text": [
      "Counter({5: 34, 4: 26, 3: 16, 1: 5, 2: 4})\n"
     ]
    }
   ],
   "source": [
    "values = data[['experience' , 'Después de haber completado el curso introductorio a la programación, identifique qué tan de acuerdo está con las siguientes afirmaciones [La programación va a ser útil en mi futuro]']].values.tolist()\n",
    "\n",
    "print(values)"
   ]
  }
 ],
 "metadata": {
  "kernelspec": {
   "display_name": "Python 3",
   "language": "python",
   "name": "python3"
  },
  "language_info": {
   "codemirror_mode": {
    "name": "ipython",
    "version": 3
   },
   "file_extension": ".py",
   "mimetype": "text/x-python",
   "name": "python",
   "nbconvert_exporter": "python",
   "pygments_lexer": "ipython3",
   "version": "3.10.12"
  },
  "orig_nbformat": 4
 },
 "nbformat": 4,
 "nbformat_minor": 2
}
