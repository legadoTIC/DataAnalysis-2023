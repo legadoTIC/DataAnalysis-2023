{
 "cells": [
  {
   "cell_type": "code",
   "execution_count": 2,
   "metadata": {},
   "outputs": [],
   "source": [
    "import pandas as pd\n",
    "from collections import Counter\n",
    "import re\n"
   ]
  },
  {
   "cell_type": "code",
   "execution_count": 3,
   "metadata": {},
   "outputs": [
    {
     "data": {
      "text/plain": [
       "Index(['Marca temporal', 'Nombre completo del estudiante',\n",
       "       'Número de identificación (tarjeta de Identidad o cédula)', 'Edad',\n",
       "       'gender', 'Escoge la entidad que te habló del campamento',\n",
       "       'prior_knowledge',\n",
       "       '¿Cómo fue su experiencia aprendiendo a programar? ( 1 siendo la calificación más baja y 5 la calificación más alta)',\n",
       "       '¿Cuáles de estos conceptos le enseñaron? (marque todos los que apliquen)',\n",
       "       'programming_before', 'learning_skills_perception',\n",
       "       'programming_potential_perception', 'programming_fun_perception',\n",
       "       'programming_value_perception', 'innate_experience',\n",
       "       'programming_effort_perception',\n",
       "       'Por favor identifique qué tan de acuerdo está con las siguientes afirmaciones [Me interesa aprender a programar]',\n",
       "       '¿Por qué decidió asistir al campo cs bridge? ', 'perception',\n",
       "       'association',\n",
       "       '¿Alguien le ha animado a estudiar algo relacionado a la tecnología o la programación?',\n",
       "       'motivation', 'prospective',\n",
       "       '¿Se ha planteado estudiar una carrera universitaria relacionada a la tecnología o la programación? ',\n",
       "       ' ¿Por qué se ha planteado estudiar una carrera universitaria relacionada a la tecnología o la programación? (Seleccione todos los que apliquen)     \\t',\n",
       "       'Programar es una habilidad importante para (Seleccione todos los que apliquen)',\n",
       "       ' ¿Por qué no se ha planteado estudiar una carrera universitaria relacionada a la tecnología o la programación? (Seleccione todos los que apliquen)     \\t',\n",
       "       'Programar es una habilidad importante para (Seleccione todos los que apliquen).1'],\n",
       "      dtype='object')"
      ]
     },
     "execution_count": 3,
     "metadata": {},
     "output_type": "execute_result"
    }
   ],
   "source": [
    "data = pd.read_excel(\"../data/entrance.xlsx\")\n",
    "data.rename(columns={\n",
    "    '¿Cuándo piensa en Programación, qué se le viene a la mente?':'perception',\n",
    "    '¿Cuál de estos términos asocia a la programación? (Seleccione todos los que apliquen)':'association',\n",
    "    '¿Ha programado antes? ':'prior_knowledge',\n",
    "    '¿En qué lenguaje ha programado?':'programming_before',\n",
    "    '¿En qué le gustaría trabajar cuando sea grande?':'prospective',\n",
    "    'Género':'gender',\n",
    "    '¿Qué personas lo han motivado a estudiar algo relacionado a la tecnología o la programación? (seleccione todos los que apliquen)':'motivation',\n",
    "    'Por favor identifique qué tan de acuerdo está con las siguientes afirmaciones [Para aprender a programar se necesita una habilidad innata con la que unas personas no nacen]':\"innate_experience\",\n",
    "    \"Por favor identifique qué tan de acuerdo está con las siguientes afirmaciones [Yo creo que puedo aprender a programar]\":\"learning_skills_perception\",\n",
    "    \"Por favor identifique qué tan de acuerdo está con las siguientes afirmaciones [Yo creo que seré bueno/a programando]\":\"programming_potential_perception\",\n",
    "    \"Por favor identifique qué tan de acuerdo está con las siguientes afirmaciones [Aprender a programar es divertido]\":\"programming_fun_perception\",\n",
    "    \"Por favor identifique qué tan de acuerdo está con las siguientes afirmaciones [El contenido de este curso va a ser valioso para mi futuro]\":\"programming_value_perception\",\n",
    "    \"Por favor identifique qué tan de acuerdo está con las siguientes afirmaciones [Aprender a programar demanda mucho esfuerzo y trabajo]\":\"programming_effort_perception\",\n",
    "    \"Por favor identifique qué tan de acuerdo está con las siguientes afirmaciones [Me interesa aprender a programar]\":\"programming_interest_perception\"\n",
    "}, inplace = True)\n",
    "data = data.fillna(0)\n",
    "data.columns"
   ]
  },
  {
   "cell_type": "code",
   "execution_count": 4,
   "metadata": {},
   "outputs": [
    {
     "name": "stdout",
     "output_type": "stream",
     "text": [
      "Counter({'de': 45, 'y': 32, 'que': 24, '': 23, 'en': 23, 'la': 19, 'a': 18, 'una': 16, 'un': 15, 'el': 12, 'para': 12, 'se': 11, 'pienso': 10, 'las': 9, 'me': 8, 'crear': 8, 'códigos': 7, 'comandos': 7, 'videojuegos': 6, 'o': 6, 'web,': 6, 'algo': 6, 'programación': 6, 'mente': 5, 'instrucciones': 5, 'diferentes': 5, 'los': 5, 'computadores': 4, 'juegos': 4, 'paginas': 4, 'viene': 4, 'como': 4, 'otras': 4, 'cosas': 4, 'serie': 4, 'páginas': 4, 'por': 4, 'aplicaciones': 3, 'creacion': 3, 'ciencia': 3, 'resolver': 3, 'problemas': 3, 'nos': 3, 'con': 3, 'lo': 3, 'funcione': 3, 'creación': 3, 'programas': 3, 'python': 3, 'cuando': 3, 'mas': 3, 'mundo': 3, 'cuales': 3, 'inteligencia': 3, 'texto': 3, 'nuevas': 3, 'codigos': 3, 'programa': 3, 'muchos': 3, 'tecnología': 3, 'es': 3, 'poder': 2, 'ayuda': 2, 'dispositivo': 2, 'aplicación': 2, 'forma': 2, 'videojuegos,': 2, 'mi': 2, 'computador': 2, 'lleno': 2, 'pero': 2, 'innovación': 2, 'mediante': 2, 'sin': 2, 'no': 2, 'ya': 2, 'sea': 2, 'lenguaje': 2, 'datos,': 2, 'muchas': 2, 'lograr': 2, 'específico': 2, 'unos': 2, 'computadores,': 2, 'artificial': 2, 'conceptos': 2, 'programar': 2, 'variables,': 2, 'puede': 2, 'aprender.': 2, 'líneas': 2, 'comandos,': 2, 'orden': 2, 'virtual': 2, 'soluciones': 2, 'aplicaciones.': 2, 'ejecute': 2, 'base': 2, 'creando': 1, 'innovar': 1, 'algoritmos': 1, 'web': 1, 'crear,': 1, 'diseñar': 1, 'ayudar': 1, 'avanzar': 1, 'pueden': 1, 'presentar': 1, 'cómputo': 1, 'dándole': 1, 'necesarias': 1, 'haga': 1, 'nosotros': 1, 'requiramos': 1, 'configurar': 1, 'alguna': 1, 'correcta': 1, 'cumpla': 1, 'cierta': 1, 'tarea': 1, 'manejo': 1, 'virtuales': 1, 'herramientas': 1, 'digitales.': 1, 'futuro': 1, 'nuestra': 1, 'sociedad': 1, 'productivas': 1, 'útiles': 1, 'humanidad.': 1, 'papá': 1, 'literalmente': 1, 'código': 1, 'profundidad': 1, 'futuro,': 1, 'barreras,': 1, 'economía,': 1, 'trabajo': 1, 'estable': 1, 'dar': 1, 'ejecutar': 1, 'abra': 1, 'montón': 1, 'números': 1, 'comprendo,': 1, 'gustaría': 1, 'aprender': 1, 'poco': 1, 'más.\\xa0': 1, 'artificial,': 1, 'automatizacion': 1, 'lineas': 1, 'simbologia': 1, 'compuacion': 1, 'armar': 1, 'eventos': 1, 'exactos.': 1, 'tecnologia,': 1, 'algoridmos,': 1, 'animacion': 1, 'arduino,': 1, 'ordenes.': 1, 'scratch': 1, 'inteligencias': 1, 'artificiales,': 1, 'bucles,': 1, 'ciclos': 1, 'demas.': 1, 'robot,': 1, 'pagina': 1, 'nuevo': 1, 'librerías': 1, 'ectensos': 1, 'codigos,': 1, 'llegar': 1, 'ser': 1, 'confuso,': 1, 'interesante': 1, 'controlar': 1, 'atraez': 1, 'cualquiera': 1, 'hacerlo': 1, 'codigo,': 1, 'informacion,': 1, 'ceros': 1, 'juegos,': 1, 'aplicaciones,': 1, 'computadores.': 1, 'interaccion,comandos': 1, 'funciones,': 1, 'mucho': 1, 'consetracion': 1, 'darle': 1, 'vida': 1, 'imaginacion.': 1, 'python,': 1, 'java,': 1, 'java': 1, 'script': 1, 'conjunto': 1, 'unidos,': 1, 'cualquier': 1, 'invento': 1, 'venga': 1, 'nuestras': 1, 'mentes.': 1, 'q': 1, 'dan': 1, 'maquina': 1, 'qué': 1, 'damos': 1, 'ai': 1, '(inteligencia': 1, 'artificial)': 1, 'debe': 1, 'cumplir': 1, 'pensamiento': 1, 'logico': 1, 'construcción': 1, 'software,': 1, 'acciones': 1, 'automatización': 1, 'códigos,': 1, 'algoritmos,': 1, 'animaciones.': 1, 'sobre': 1, 'arden': 1, 'ejecutada': 1, 'problemas,': 1, 'encontrar': 1, 'efficientes': 1, 'toda': 1, 'rodea': 1, 'java,computador,codigos': 1, 'numeros,': 1, 'simbolos,': 1, 'llaves,': 1, 'variables': 1, 'partes': 1, 'fundamentales': 1, 'tecnología.': 1, 'tecnologia': 1, ',codigos': 1, 'lenguage': 1, 'cual': 1, 'crean,': 1, 'desarrollan': 1, ',': 1, 'desarrollar': 1, 'tecnologias': 1, 'solución': 1, 'escribir': 1, 'tipos': 1, 'realidades': 1, 'codificación': 1, 'usa': 1, 'computadoras': 1, 'comunicación': 1, 'entre': 1, 'maquinas': 1, 'seres': 1, 'humanos': 1, 'algoritmo': 1, 'armonia': 1, 'primero': 1, 'utilizados': 1, 'paraprogramar': 1, 'diversos': 1, 'ejercicios': 1, 'realice': 1, 'colegio': 1, 'le': 1, 'da': 1, 'máquina': 1, 'digitar,': 1, 'ideas,': 1, 'computación.': 1, 'facilitar': 1, 'funciones': 1, 'complejas': 1, 'volverlas': 1, 'simples': 1, 'basicamente,': 1, 'permitir': 1, 'necesidad': 1, 'humana': 1, 'partir': 1, 'conocimientos': 1, 'previos': 1, 'adquiridos': 1, 'phyton': 1, 'plataformas': 1, 'permiten': 1, 'determinar': 1, 'funcion': 1, 'nuestro': 1, 'proyecto': 1, 'realizar': 1, 'interesa': 1, 'bastante': 1, 'datos': 1, 'cantidad': 1, 'e': 1, 'imaginaciones': 1, 'parte': 1, 'videojuego': 1, 'donde': 1, 'gente': 1, 'pueda': 1, 'divertir': 1, 'ningun': 1, 'estres,': 1, 'va': 1, 'estar': 1, 'sino': 1, 'estos': 1, 'nivel': 1, 'educativo': 1, 'empresarial': 1, 'configuración': 1, 'sistemas': 1, 'área': 1, ',algo': 1, 'también': 1, 'pasa': 1, 'imaginación,': 1, 'hay': 1, 'tener': 1, 'ideas': 1, 'creaciones': 1, 'todo': 1, 'tipo': 1, 'cosas,': 1, 'ejemplo,': 1, 'nueva': 1, 'aplicación,': 1, 'etc.': 1, 'diseño': 1, 'personas': 1, 'verán': 1, 'página,': 1, 'colores': 1, 'son': 1, 'campos': 1, 'quiero': 1, 'dedicar': 1, 'ordenadas': 1, 'humano': 1, 'mejores': 1})\n"
     ]
    }
   ],
   "source": [
    "perceptions = data.loc[:,'perception'].values.tolist()\n",
    "count = Counter()\n",
    "\n",
    "for perception in perceptions:\n",
    "    perception = perception.lower()\n",
    "    re.sub(',','',perception)\n",
    "    re.sub('.','',perception)\n",
    "    re.sub('á','a',perception)\n",
    "    re.sub('é','e',perception)\n",
    "    re.sub('í','i',perception)\n",
    "    re.sub('ó','o',perception)\n",
    "    re.sub('ú','u',perception)\n",
    "    x = perception.split(\" \")\n",
    "    count += Counter(x)\n",
    "\n",
    "print(count)"
   ]
  },
  {
   "cell_type": "code",
   "execution_count": 5,
   "metadata": {},
   "outputs": [
    {
     "name": "stdout",
     "output_type": "stream",
     "text": [
      "Counter({'concentración,': 77, 'creatividad,': 70, 'el': 70, 'futuro,': 64, 'inteligencia,': 61, 'visualización': 60, 'datos,': 55, 'trabajo': 55, 'en': 55, 'equipo,': 54, 'difícil,': 25, 'datos': 17, 'empatía,': 17, 'abstracción,': 16, 'masculino,': 14, 'femenino,': 12, 'nerds,': 11, 'antisocial,': 8, 'futuro': 6, 'aburrido,': 3, 'creatividad': 1, 'equipo': 1})\n"
     ]
    }
   ],
   "source": [
    "associations = data.loc[:,'association'].values.tolist()\n",
    "count = Counter()\n",
    "\n",
    "for association in associations:\n",
    "    association = association.lower()\n",
    "    re.sub(',','',association)\n",
    "    re.sub('.','',association)\n",
    "    re.sub('á','a',association)\n",
    "    re.sub('é','e',association)\n",
    "    re.sub('í','i',association)\n",
    "    re.sub('ó','o',association)\n",
    "    re.sub('ú','u',association)\n",
    "    x = association.split(\" \")\n",
    "    count += Counter(x)\n",
    "\n",
    "print(count)"
   ]
  },
  {
   "cell_type": "code",
   "execution_count": 6,
   "metadata": {},
   "outputs": [
    {
     "name": "stdout",
     "output_type": "stream",
     "text": [
      "Counter({'de': 43, 'en': 25, '': 21, 'la': 20, 'o': 19, 'y': 18, 'no': 14, 'me': 14, 'lo': 11, 'el': 10, 'que': 10, 'ingeniería': 10, 'una': 9, 'para': 7, 'a': 7, 'software': 6, 'se': 6, 'con': 6, 'relacionado': 6, 'sistemas': 6, 'desarrollo': 5, 'programación': 5, 'ser': 5, 'quiero': 5, 'sistemas,': 5, 'gustaría': 5, 'trabajar': 5, 'empresa': 5, 'como': 5, 'diseño': 5, 'tengo': 4, 'un': 4, 'carrera': 4, 'derecho': 4, 'algo': 4, 'ingenieria': 4, 'pero': 4, 'gustaria': 3, 'videojuegos': 3, 'ciencia': 3, 'aún': 3, 'mecatronica': 3, 'medicina': 3, 'todo': 3, 'arte': 3, 'alguna': 3, 'los': 3, 'campo': 3, 'ingeniero': 3, 'industrial': 3, 'todavía': 3, 'claro': 2, 'programador': 2, 'general': 2, 'estudiar': 2, 'sé': 2, 'todavia': 2, 'tecnología': 2, 'quimica': 2, 'grande': 2, 'estoy': 2, 'entre': 2, 'atención': 2, 'arquitectura': 2, 'crear': 2, 'salud': 2, 'algún': 2, 'ingeniería,': 2, 'gráfico': 2, 'psicología': 2, 'programacion': 2, 'las': 2, 'mi': 2, 'gusta': 2, 'mundo': 2, 'administracion': 2, 'realmente': 2, 'aplicaciones': 2, 'más': 2, 'tanto': 2, 'infraestructura': 1, 'colombia': 1, 'aun': 1, 'odontologia': 1, 'estar': 1, 'creacion': 1, 'paginas': 1, 'cuanquier': 1, 'trabajo': 1, 'salga': 1, 'base': 1, 'esta': 1, 'astronómica': 1, 'desarrollador': 1, 'microbiología.': 1, 'cfo': 1, 'corporación': 1, 'multinacional': 1, 'referente': 1, 'posiblemente': 1, 'dentro': 1, 'carreras': 1, 'asocie': 1, 'este,': 1, 'ya': 1, 'sea': 1, 'ciencias': 1, 'del': 1, 'cómputo': 1, 'cyber': 1, 'seguridad': 1, 'bancos': 1, 'asociado': 1, 'multimedia.': 1, 'historia': 1, 'probablemente': 1, 'artistica': 1, 'social': 1, 'junto': 1, 'otra': 1, 'tecnologia': 1, 'sistematica': 1, 'sector': 1, 'económico': 1, 'financiero': 1, 'verdad': 1, 'segura': 1, 'viajando': 1, 'por': 1, 'mundo.': 1, 'maestro': 1, 'emprendedora': 1, 'mecatrónica': 1, 'productora,': 1, 'directora,': 1, 'otras,': 1, 'medios': 1, 'audiovisuales': 1, 'restauradora': 1, 'historiadora': 1, 'clínico': 1, 'pacientes.': 1, 'arquitecto': 1, 'computacional': 1, 'negocios': 1, 'internacionales': 1, 'computación': 1, 'siendo': 1, 'economista': 1, 'psicologa': 1, 'programas': 1, 'estudio': 1, 'mental': 1, 'mas': 1, 'avanzado.': 1, 'video': 1, 'juegos': 1, 'construyendo': 1, 'diseñando': 1, 'barcos': 1, 'autos': 1, 'médico': 1, '-': 1, 'c': 1, 'lugar': 1, 'donde': 1, 'pueda': 1, 'usar': 1, 'conocimientos': 1, 'idea,': 1, 'podría': 1, 'cualquier': 1, 'mezclada': 1, 'videojuego': 1, 'mecanismos': 1, 'roboticos': 1, 'sistematizar': 1, 'problemáticas': 1, 'ambientales': 1, 'modelaje': 1, 'psicologia': 1, 'cognitiva': 1, 'conductual': 1, 'curaduría': 1, 'museos': 1, 'exponer': 1, 'galerías.': 1, 'pues': 1, 'arquitectura,': 1, 'sería': 1, 'genial': 1, 'poder': 1, 'implementar': 1, 'virtual': 1, 'digital': 1, 'dicha': 1, 'gastronomia,': 1, 'co': 1, 'deportes': 1, 'he': 1, 'pensado': 1, 'mucho': 1, 'parte': 1, 'desarrollar': 1, 'sigo': 1, 'dividido': 1, 'propia': 1, 'hacer': 1, 'al': 1, 'marketing': 1, 'área': 1, 'investigación': 1, 'tecnologías': 1, 'medicina,': 1, 'conectando': 1, 'biomedica': 1, 'gobierno': 1, 'asuntos': 1, 'públicos': 1, 'desarrolladora': 1, 'ingeniera': 1, 'robótica': 1, 'empresa.': 1, 'electronica.': 1, 'administración': 1, 'empresas': 1, 'biología': 1, 'marina': 1, 'piloto': 1, 'aviación.': 1, 'interesa': 1, 'datos': 1, 'solo': 1, 'esto': 1, 'abre': 1, 'campos': 1, 'cyberseguridad': 1, 'mejorada': 1, 'niveles': 1, 'i.a': 1, 'es': 1, 'tema': 1, 'apasiona': 1, 'seguir': 1, 'sueño': 1, 'relaciones': 1, 'internacionales,': 1, 'auxiliar': 1, 'vuelo,': 1, 'idiomas,': 1, 'cinematografía,': 1, ',hoteleria': 1, 'turismo': 1, 'varias': 1, 'opciones,': 1, 'llaman': 1, 'son': 1, 'marketing.': 1, 'yo': 1, 'programar': 1, 'páginas': 1, 'web,': 1, 'puede': 1, 'ver': 1, 'no.': 1, 'también': 1, 'estudiando': 1, 'inglés': 1, 'sirva': 1, 'trabajar.': 1})\n"
     ]
    }
   ],
   "source": [
    "prospectives = data.loc[:,'prospective'].values.tolist()\n",
    "count = Counter()\n",
    "\n",
    "for element in prospectives:\n",
    "    element = element.lower()\n",
    "    re.sub(',','',element)\n",
    "    re.sub('.','',element)\n",
    "    re.sub('á','a',element)\n",
    "    re.sub('é','e',element)\n",
    "    re.sub('í','i',element)\n",
    "    re.sub('ó','o',element)\n",
    "    re.sub('ú','u',element)\n",
    "    x = element.split(\" \")\n",
    "    count += Counter(x)\n",
    "\n",
    "print(count)"
   ]
  },
  {
   "cell_type": "code",
   "execution_count": 7,
   "metadata": {},
   "outputs": [
    {
     "name": "stdout",
     "output_type": "stream",
     "text": [
      "Yes\n",
      "0.6705882352941176\n",
      "No\n",
      "0.32941176470588235\n"
     ]
    }
   ],
   "source": [
    "prior_knowledge = data.loc[:,'prior_knowledge'].values.tolist()\n",
    "yes = int(0)\n",
    "no = int(0)\n",
    "len_prior = int(len(prior_knowledge))\n",
    "\n",
    "for knowledge in prior_knowledge:\n",
    "    if knowledge == 'Sí':\n",
    "        yes += 1\n",
    "    if knowledge == 'Nunca':\n",
    "        no += 1\n",
    "\n",
    "print(\"Yes\")\n",
    "print(yes/len_prior)\n",
    "\n",
    "print(\"No\")\n",
    "print(no/len_prior)"
   ]
  },
  {
   "cell_type": "code",
   "execution_count": 8,
   "metadata": {},
   "outputs": [
    {
     "name": "stdout",
     "output_type": "stream",
     "text": [
      "Male percentage: 0.4588235294117647\n",
      "Male that has programmed before: 0.6923076923076923\n",
      "Male that has NOT programmed before: 0.3076923076923077\n",
      "==============================================================\n",
      "Female percentage: 0.5411764705882353\n",
      "Female that has programmed before: 0.6521739130434783\n",
      "Female that has NOT programmed before: 0.34782608695652173\n"
     ]
    }
   ],
   "source": [
    "male = data[data['gender']=='Masculino']\n",
    "female = data[data['gender']=='Femenino']\n",
    "print(\"Male percentage: \"+str((len(male)/len(data))))\n",
    "male_knowledge = male[male['prior_knowledge']=='Sí']\n",
    "male_no_knowledge = male[male['prior_knowledge']=='Nunca']\n",
    "print(\"Male that has programmed before: \"+str((len(male_knowledge)/len(male))))\n",
    "print(\"Male that has NOT programmed before: \"+str((len(male_no_knowledge)/len(male))))\n",
    "\n",
    "print(\"==============================================================\")\n",
    "\n",
    "print(\"Female percentage: \"+str((len(female)/len(data))))\n",
    "female_knowledge = female[female['prior_knowledge']=='Sí']\n",
    "female_no_knowledge = female[female['prior_knowledge']=='Nunca']\n",
    "print(\"Female that has programmed before: \"+str((len(female_knowledge)/len(female))))\n",
    "print(\"Female that has NOT programmed before: \"+str((len(female_no_knowledge)/len(female))))\n"
   ]
  },
  {
   "cell_type": "code",
   "execution_count": 9,
   "metadata": {},
   "outputs": [
    {
     "data": {
      "text/plain": [
       "Counter({'java': 8,\n",
       "         '': 8,\n",
       "         'python': 8,\n",
       "         'arduino': 7,\n",
       "         'y': 7,\n",
       "         'javascript': 6,\n",
       "         'c++': 6,\n",
       "         'html': 4,\n",
       "         'español': 4,\n",
       "         'html,': 4,\n",
       "         'java,': 4,\n",
       "         'de': 4,\n",
       "         'phyton': 3,\n",
       "         'lenguaje': 3,\n",
       "         'scratch': 3,\n",
       "         'bloques': 3,\n",
       "         'c++,': 3,\n",
       "         'no': 2,\n",
       "         'me': 2,\n",
       "         'python,': 2,\n",
       "         'css,': 2,\n",
       "         'script,': 2,\n",
       "         'r': 2,\n",
       "         'programación': 2,\n",
       "         'visual': 2,\n",
       "         'lo': 2,\n",
       "         'básico': 2,\n",
       "         'acuerdo': 1,\n",
       "         'e': 1,\n",
       "         'ingles': 1,\n",
       "         'inglés': 1,\n",
       "         'acuerdo.': 1,\n",
       "         'nose': 1,\n",
       "         'tanto': 1,\n",
       "         'en': 1,\n",
       "         'como': 1,\n",
       "         'el': 1,\n",
       "         'escrito': 1,\n",
       "         'httml,': 1,\n",
       "         'python.': 1,\n",
       "         'htlm': 1,\n",
       "         'uno': 1,\n",
       "         'phython,': 1,\n",
       "         'javscript': 1,\n",
       "         'lua': 1,\n",
       "         'script': 1,\n",
       "         'leguaje': 1,\n",
       "         'programacion': 1,\n",
       "         'processing': 1,\n",
       "         'html,typescript,php': 1,\n",
       "         'he': 1,\n",
       "         'trabajado': 1,\n",
       "         'se': 1,\n",
       "         'phyton,': 1,\n",
       "         'sql,': 1,\n",
       "         'php,': 1,\n",
       "         'css': 1,\n",
       "         'html.': 1})"
      ]
     },
     "execution_count": 9,
     "metadata": {},
     "output_type": "execute_result"
    }
   ],
   "source": [
    "def word_repetition(specific_list):\n",
    "    count = Counter()\n",
    "    for element in specific_list:\n",
    "        element = element.lower()\n",
    "        re.sub(',',' ',element)\n",
    "        re.sub('.',' ',element)\n",
    "        re.sub('á','a',element)\n",
    "        re.sub('é','e',element)\n",
    "        re.sub('í','i',element)\n",
    "        re.sub('ó','o',element)\n",
    "        re.sub('ú','u',element)\n",
    "        x = element.split(\" \")\n",
    "        count += Counter(x)\n",
    "    \n",
    "    return(count)\n",
    "\n",
    "motivation = data.loc[:,'programming_before'].values.tolist()\n",
    "motivation = [i for i in motivation if i != 0]\n",
    "word_repetition(motivation)"
   ]
  },
  {
   "cell_type": "code",
   "execution_count": 10,
   "metadata": {},
   "outputs": [
    {
     "name": "stdout",
     "output_type": "stream",
     "text": [
      "Overall: \n",
      "Counter({'Familiares': 57, 'Profesores': 33, 'Amigos': 25, 'Conocidos': 24})\n"
     ]
    }
   ],
   "source": [
    "motivation = data.loc[:,'motivation'].values.tolist()\n",
    "motivation = [i for i in motivation if i != 0]\n",
    "count = Counter()\n",
    "\n",
    "for person in motivation:\n",
    "    x = person.split(\",\")\n",
    "    x = [i.strip(\" \") for i in x]\n",
    "    count += Counter(x)\n",
    "\n",
    "print(\"Overall: \")\n",
    "print(count)"
   ]
  },
  {
   "cell_type": "code",
   "execution_count": 11,
   "metadata": {},
   "outputs": [
    {
     "data": {
      "text/plain": [
       "Counter({'Bloques (tipo scratch)': 45,\n",
       "         ' wiring': 28,\n",
       "         ' microbits)': 28,\n",
       "         ' Programación de tarjetas programables (ej. arduino': 26,\n",
       "         ' Funciones': 24,\n",
       "         ' Condicionales': 23,\n",
       "         ' Ciclos': 15,\n",
       "         ' Listas o arreglos': 11,\n",
       "         ' Programación gráfica': 9,\n",
       "         'Condicionales': 7,\n",
       "         'Programación de tarjetas programables (ej. arduino': 2,\n",
       "         'Ciclos': 2,\n",
       "         'Funciones': 1})"
      ]
     },
     "execution_count": 11,
     "metadata": {},
     "output_type": "execute_result"
    }
   ],
   "source": [
    "concepts = data.loc[:,\"¿Cuáles de estos conceptos le enseñaron? (marque todos los que apliquen)\"].values.tolist()\n",
    "concepts = [i for i in concepts if i != 0]\n",
    "\n",
    "count = Counter()\n",
    "for concept in concepts:\n",
    "    x = concept.split(\",\")\n",
    "    count += Counter(x)\n",
    "\n",
    "count"
   ]
  },
  {
   "cell_type": "code",
   "execution_count": 12,
   "metadata": {},
   "outputs": [
    {
     "name": "stdout",
     "output_type": "stream",
     "text": [
      "Counter({'Muy de acuerdo': 55, 'De acuerdo': 26, 'Muy en desacuerdo': 2, 'Ni en desacuerdo ni de acuerdo': 1, 'En desacuerdo': 1})\n"
     ]
    }
   ],
   "source": [
    "values = data.loc[:,'learning_skills_perception'].values.tolist()\n",
    "count = Counter(values)\n",
    "\n",
    "print(count)"
   ]
  },
  {
   "cell_type": "code",
   "execution_count": 13,
   "metadata": {},
   "outputs": [
    {
     "name": "stdout",
     "output_type": "stream",
     "text": [
      "Counter({'De acuerdo': 43, 'Muy de acuerdo': 25, 'Ni en desacuerdo ni de acuerdo': 14, 'En desacuerdo': 2, 'Muy en desacuerdo': 1})\n"
     ]
    }
   ],
   "source": [
    "values = data.loc[:,'programming_potential_perception'].values.tolist()\n",
    "count = Counter(values)\n",
    "\n",
    "print(count)"
   ]
  },
  {
   "cell_type": "code",
   "execution_count": 14,
   "metadata": {},
   "outputs": [
    {
     "name": "stdout",
     "output_type": "stream",
     "text": [
      "Counter({'De acuerdo': 36, 'Muy de acuerdo': 30, 'Ni en desacuerdo ni de acuerdo': 12, 'En desacuerdo': 4, 'Muy en desacuerdo': 3})\n"
     ]
    }
   ],
   "source": [
    "values = data.loc[:,'programming_fun_perception'].values.tolist()\n",
    "count = Counter(values)\n",
    "\n",
    "print(count)"
   ]
  },
  {
   "cell_type": "code",
   "execution_count": 15,
   "metadata": {},
   "outputs": [
    {
     "name": "stdout",
     "output_type": "stream",
     "text": [
      "Counter({'Muy de acuerdo': 47, 'De acuerdo': 26, 'Ni en desacuerdo ni de acuerdo': 9, 'Muy en desacuerdo': 2, 'En desacuerdo': 1})\n"
     ]
    }
   ],
   "source": [
    "values = data.loc[:,'programming_value_perception'].values.tolist()\n",
    "count = Counter(values)\n",
    "\n",
    "print(count)"
   ]
  },
  {
   "cell_type": "code",
   "execution_count": 16,
   "metadata": {},
   "outputs": [
    {
     "name": "stdout",
     "output_type": "stream",
     "text": [
      "Counter({'Ni en desacuerdo ni de acuerdo': 33, 'De acuerdo': 27, 'Muy de acuerdo': 10, 'En desacuerdo': 9, 'Muy en desacuerdo': 6})\n"
     ]
    }
   ],
   "source": [
    "values = data.loc[:,'programming_effort_perception'].values.tolist()\n",
    "count = Counter(values)\n",
    "\n",
    "print(count)"
   ]
  },
  {
   "cell_type": "code",
   "execution_count": null,
   "metadata": {},
   "outputs": [],
   "source": [
    "values = data.loc[:,'programming_interest_perception'].values.tolist()\n",
    "count = Counter(values)\n",
    "\n",
    "print(count)"
   ]
  }
 ],
 "metadata": {
  "kernelspec": {
   "display_name": "Python 3",
   "language": "python",
   "name": "python3"
  },
  "language_info": {
   "codemirror_mode": {
    "name": "ipython",
    "version": 3
   },
   "file_extension": ".py",
   "mimetype": "text/x-python",
   "name": "python",
   "nbconvert_exporter": "python",
   "pygments_lexer": "ipython3",
   "version": "3.11.5"
  },
  "orig_nbformat": 4
 },
 "nbformat": 4,
 "nbformat_minor": 2
}
